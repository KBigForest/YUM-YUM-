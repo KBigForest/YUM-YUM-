{
 "cells": [
  {
   "cell_type": "code",
   "execution_count": 2,
   "metadata": {},
   "outputs": [],
   "source": [
    "import pandas as pd\n"
   ]
  },
  {
   "cell_type": "code",
   "execution_count": 3,
   "metadata": {},
   "outputs": [],
   "source": [
    "sample_df = pd.read_csv('sample2.csv',encoding='utf-8')"
   ]
  },
  {
   "cell_type": "code",
   "execution_count": 4,
   "metadata": {},
   "outputs": [
    {
     "data": {
      "text/html": [
       "<div>\n",
       "<style scoped>\n",
       "    .dataframe tbody tr th:only-of-type {\n",
       "        vertical-align: middle;\n",
       "    }\n",
       "\n",
       "    .dataframe tbody tr th {\n",
       "        vertical-align: top;\n",
       "    }\n",
       "\n",
       "    .dataframe thead th {\n",
       "        text-align: right;\n",
       "    }\n",
       "</style>\n",
       "<table border=\"1\" class=\"dataframe\">\n",
       "  <thead>\n",
       "    <tr style=\"text-align: right;\">\n",
       "      <th></th>\n",
       "      <th>Unnamed: 0</th>\n",
       "      <th>가게명</th>\n",
       "      <th>별점</th>\n",
       "      <th>리뷰자 평균 평점</th>\n",
       "      <th>리뷰수</th>\n",
       "    </tr>\n",
       "  </thead>\n",
       "  <tbody>\n",
       "    <tr>\n",
       "      <th>0</th>\n",
       "      <td>0</td>\n",
       "      <td>18번완당집</td>\n",
       "      <td>3.383562</td>\n",
       "      <td>3.463014</td>\n",
       "      <td>73</td>\n",
       "    </tr>\n",
       "    <tr>\n",
       "      <th>1</th>\n",
       "      <td>1</td>\n",
       "      <td>303화덕 동래점</td>\n",
       "      <td>3.411765</td>\n",
       "      <td>3.600000</td>\n",
       "      <td>17</td>\n",
       "    </tr>\n",
       "    <tr>\n",
       "      <th>2</th>\n",
       "      <td>2</td>\n",
       "      <td>3파운드</td>\n",
       "      <td>3.533333</td>\n",
       "      <td>3.840000</td>\n",
       "      <td>15</td>\n",
       "    </tr>\n",
       "    <tr>\n",
       "      <th>3</th>\n",
       "      <td>3</td>\n",
       "      <td>EU피자&amp;파스타 서면본점</td>\n",
       "      <td>3.111111</td>\n",
       "      <td>3.477778</td>\n",
       "      <td>18</td>\n",
       "    </tr>\n",
       "    <tr>\n",
       "      <th>4</th>\n",
       "      <td>4</td>\n",
       "      <td>FM커피하우스 1호점</td>\n",
       "      <td>4.416667</td>\n",
       "      <td>3.865278</td>\n",
       "      <td>72</td>\n",
       "    </tr>\n",
       "    <tr>\n",
       "      <th>...</th>\n",
       "      <td>...</td>\n",
       "      <td>...</td>\n",
       "      <td>...</td>\n",
       "      <td>...</td>\n",
       "      <td>...</td>\n",
       "    </tr>\n",
       "    <tr>\n",
       "      <th>471</th>\n",
       "      <td>471</td>\n",
       "      <td>흑송</td>\n",
       "      <td>3.440000</td>\n",
       "      <td>3.530000</td>\n",
       "      <td>50</td>\n",
       "    </tr>\n",
       "    <tr>\n",
       "      <th>472</th>\n",
       "      <td>472</td>\n",
       "      <td>희망통닭</td>\n",
       "      <td>2.882353</td>\n",
       "      <td>3.344118</td>\n",
       "      <td>34</td>\n",
       "    </tr>\n",
       "    <tr>\n",
       "      <th>473</th>\n",
       "      <td>473</td>\n",
       "      <td>희와제과</td>\n",
       "      <td>3.580645</td>\n",
       "      <td>3.675269</td>\n",
       "      <td>93</td>\n",
       "    </tr>\n",
       "    <tr>\n",
       "      <th>474</th>\n",
       "      <td>474</td>\n",
       "      <td>희자매</td>\n",
       "      <td>2.750000</td>\n",
       "      <td>3.825000</td>\n",
       "      <td>12</td>\n",
       "    </tr>\n",
       "    <tr>\n",
       "      <th>475</th>\n",
       "      <td>475</td>\n",
       "      <td>히어로플레이파크 부산명지점</td>\n",
       "      <td>4.652174</td>\n",
       "      <td>4.705435</td>\n",
       "      <td>92</td>\n",
       "    </tr>\n",
       "  </tbody>\n",
       "</table>\n",
       "<p>476 rows × 5 columns</p>\n",
       "</div>"
      ],
      "text/plain": [
       "     Unnamed: 0             가게명        별점  리뷰자 평균 평점  리뷰수\n",
       "0             0          18번완당집  3.383562   3.463014   73\n",
       "1             1       303화덕 동래점  3.411765   3.600000   17\n",
       "2             2            3파운드  3.533333   3.840000   15\n",
       "3             3   EU피자&파스타 서면본점  3.111111   3.477778   18\n",
       "4             4     FM커피하우스 1호점  4.416667   3.865278   72\n",
       "..          ...             ...       ...        ...  ...\n",
       "471         471              흑송  3.440000   3.530000   50\n",
       "472         472            희망통닭  2.882353   3.344118   34\n",
       "473         473            희와제과  3.580645   3.675269   93\n",
       "474         474             희자매  2.750000   3.825000   12\n",
       "475         475  히어로플레이파크 부산명지점  4.652174   4.705435   92\n",
       "\n",
       "[476 rows x 5 columns]"
      ]
     },
     "execution_count": 4,
     "metadata": {},
     "output_type": "execute_result"
    }
   ],
   "source": [
    "sample_df"
   ]
  },
  {
   "cell_type": "code",
   "execution_count": null,
   "metadata": {},
   "outputs": [],
   "source": []
  }
 ],
 "metadata": {
  "kernelspec": {
   "display_name": "flask",
   "language": "python",
   "name": "python3"
  },
  "language_info": {
   "codemirror_mode": {
    "name": "ipython",
    "version": 3
   },
   "file_extension": ".py",
   "mimetype": "text/x-python",
   "name": "python",
   "nbconvert_exporter": "python",
   "pygments_lexer": "ipython3",
   "version": "3.9.16"
  },
  "orig_nbformat": 4,
  "vscode": {
   "interpreter": {
    "hash": "e78aa0a2e21b1d89d88214c9a16d7f3e9f6bdc3e9813285d4c1fd64bc3921400"
   }
  }
 },
 "nbformat": 4,
 "nbformat_minor": 2
}
